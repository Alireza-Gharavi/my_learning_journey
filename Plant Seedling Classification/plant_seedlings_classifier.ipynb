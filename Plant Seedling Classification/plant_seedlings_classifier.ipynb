{
 "cells": [
  {
   "cell_type": "code",
   "execution_count": 1,
   "id": "0b504f35",
   "metadata": {},
   "outputs": [
    {
     "name": "stderr",
     "output_type": "stream",
     "text": [
      "C:\\Users\\alireza\\anaconda3\\lib\\site-packages\\numpy\\_distributor_init.py:30: UserWarning: loaded more than 1 DLL from .libs:\n",
      "C:\\Users\\alireza\\anaconda3\\lib\\site-packages\\numpy\\.libs\\libopenblas64__v0.3.21-gcc_10_3_0.dll\n",
      "C:\\Users\\alireza\\anaconda3\\lib\\site-packages\\numpy\\.libs\\libopenblas64__v0.3.23-gcc_10_3_0.dll\n",
      "  warnings.warn(\"loaded more than 1 DLL from .libs:\"\n"
     ]
    }
   ],
   "source": [
    "import numpy as np\n",
    "import pandas as pd\n",
    "import matplotlib.pyplot as plt\n",
    "import os\n",
    "\n",
    "\n",
    "import torch\n",
    "import torchvision\n",
    "from torchvision import datasets\n",
    "from torchvision import transforms\n",
    "from torchvision import models\n",
    "\n",
    "device = 'cuda' if torch.cuda.is_available() else 'cpu'"
   ]
  },
  {
   "cell_type": "code",
   "execution_count": 2,
   "id": "a9cbf022",
   "metadata": {},
   "outputs": [],
   "source": [
    "DATA_DIR = r'D:\\Datasets\\plant-seedlings-classification\\train'\n",
    "\n",
    "batch_size = 32\n",
    "sz = 224"
   ]
  },
  {
   "cell_type": "code",
   "execution_count": 4,
   "id": "69dd4a6b",
   "metadata": {},
   "outputs": [],
   "source": [
    "trfs = transforms.Compose([\n",
    "    transforms.Resize(size=(sz, sz)),\n",
    "    transforms.ToTensor()\n",
    "]) "
   ]
  },
  {
   "cell_type": "code",
   "execution_count": 5,
   "id": "f834b5bb",
   "metadata": {},
   "outputs": [],
   "source": [
    "whole_dataset = datasets.ImageFolder(DATA_DIR, transform=trfs)"
   ]
  },
  {
   "cell_type": "code",
   "execution_count": 6,
   "id": "3f99ed07",
   "metadata": {},
   "outputs": [
    {
     "data": {
      "text/plain": [
       "(tensor([[[0.3137, 0.2863, 0.3098,  ..., 0.3725, 0.3804, 0.3451],\n",
       "          [0.3059, 0.3020, 0.3255,  ..., 0.3647, 0.3569, 0.3333],\n",
       "          [0.3059, 0.3137, 0.3333,  ..., 0.3608, 0.3490, 0.3451],\n",
       "          ...,\n",
       "          [0.5529, 0.5647, 0.5608,  ..., 0.3294, 0.2549, 0.2275],\n",
       "          [0.5569, 0.5608, 0.5569,  ..., 0.3176, 0.2706, 0.2392],\n",
       "          [0.5529, 0.5608, 0.5529,  ..., 0.3255, 0.2627, 0.2275]],\n",
       " \n",
       "         [[0.1961, 0.1725, 0.2039,  ..., 0.3451, 0.3569, 0.3216],\n",
       "          [0.1804, 0.1804, 0.2118,  ..., 0.3333, 0.3255, 0.2980],\n",
       "          [0.1765, 0.1882, 0.2196,  ..., 0.3176, 0.3059, 0.3020],\n",
       "          ...,\n",
       "          [0.5804, 0.5922, 0.5882,  ..., 0.3255, 0.2353, 0.2078],\n",
       "          [0.5843, 0.5882, 0.5843,  ..., 0.3176, 0.2549, 0.2235],\n",
       "          [0.5843, 0.5922, 0.5882,  ..., 0.3255, 0.2510, 0.2118]],\n",
       " \n",
       "         [[0.1059, 0.0784, 0.1176,  ..., 0.2353, 0.2392, 0.1882],\n",
       "          [0.0824, 0.0863, 0.1294,  ..., 0.2431, 0.2275, 0.1922],\n",
       "          [0.0784, 0.0941, 0.1373,  ..., 0.2392, 0.2275, 0.2196],\n",
       "          ...,\n",
       "          [0.6039, 0.6157, 0.6118,  ..., 0.3490, 0.2588, 0.2314],\n",
       "          [0.6078, 0.6118, 0.6078,  ..., 0.3412, 0.2784, 0.2471],\n",
       "          [0.6118, 0.6157, 0.6118,  ..., 0.3490, 0.2745, 0.2353]]]),\n",
       " 0)"
      ]
     },
     "execution_count": 6,
     "metadata": {},
     "output_type": "execute_result"
    }
   ],
   "source": [
    "whole_dataset[0]"
   ]
  },
  {
   "cell_type": "code",
   "execution_count": 7,
   "id": "dd3c600b",
   "metadata": {},
   "outputs": [
    {
     "data": {
      "text/plain": [
       "'D:\\\\Datasets\\\\plant-seedlings-classification\\\\train\\\\Black-grass\\\\0050f38b3.png'"
      ]
     },
     "execution_count": 7,
     "metadata": {},
     "output_type": "execute_result"
    }
   ],
   "source": [
    "whole_dataset.imgs[0][0]"
   ]
  },
  {
   "cell_type": "code",
   "execution_count": 8,
   "id": "1641eacc",
   "metadata": {},
   "outputs": [
    {
     "data": {
      "text/plain": [
       "4750"
      ]
     },
     "execution_count": 8,
     "metadata": {},
     "output_type": "execute_result"
    }
   ],
   "source": [
    "len(whole_dataset)"
   ]
  },
  {
   "cell_type": "code",
   "execution_count": 9,
   "id": "e8a1e50f",
   "metadata": {},
   "outputs": [],
   "source": [
    "class_names = whole_dataset.classes"
   ]
  },
  {
   "cell_type": "code",
   "execution_count": 10,
   "id": "fd599b8c",
   "metadata": {},
   "outputs": [],
   "source": [
    "def array_random_pick(array, pick_num):\n",
    "    index = np.arange(len(array))\n",
    "    pick = np.random.choice(len(array), pick_num, replace=False)\n",
    "    unpick = np.equal(np.in1d(index, pick), False)\n",
    "    return array[unpick], array[pick]"
   ]
  },
  {
   "cell_type": "code",
   "execution_count": 11,
   "id": "e93b9521",
   "metadata": {},
   "outputs": [
    {
     "name": "stdout",
     "output_type": "stream",
     "text": [
      "4250 500\n"
     ]
    }
   ],
   "source": [
    "train_mask, valid_mask = array_random_pick(np.arange(len(whole_dataset)), 500)\n",
    "\n",
    "print(len(train_mask), len(valid_mask))"
   ]
  },
  {
   "cell_type": "code",
   "execution_count": 12,
   "id": "0820da82",
   "metadata": {},
   "outputs": [
    {
     "name": "stdout",
     "output_type": "stream",
     "text": [
      "4250 500\n",
      "torch.Size([3, 224, 224])\n",
      "torch.Size([3, 224, 224])\n"
     ]
    }
   ],
   "source": [
    "train_set = torch.utils.data.Subset(whole_dataset, train_mask)\n",
    "valid_set = torch.utils.data.Subset(whole_dataset, valid_mask)\n",
    "\n",
    "print(len(train_set), len(valid_set))\n",
    "print(train_set[0][0].shape)\n",
    "print(valid_set[0][0].shape)"
   ]
  },
  {
   "cell_type": "code",
   "execution_count": 13,
   "id": "cf3f56b4",
   "metadata": {},
   "outputs": [],
   "source": [
    "train_set.dataset.transforms = transforms.Compose([\n",
    "    transforms.Resize(size=(sz, sz)),\n",
    "    transforms.RandomHorizontalFlip(),\n",
    "    transforms.ColorJitter(0.1, 0.1, 0.1, 0.1),\n",
    "    transforms.RandomRotation(20),\n",
    "    transforms.ToTensor(),\n",
    "    transforms.Normalize([0.485, 0.456, 0.406], [0.229, 0.224, 0.225])\n",
    "    \n",
    "])"
   ]
  },
  {
   "cell_type": "code",
   "execution_count": 14,
   "id": "eee1cdcf",
   "metadata": {},
   "outputs": [
    {
     "data": {
      "text/plain": [
       "Compose(\n",
       "    Resize(size=(224, 224), interpolation=bilinear, max_size=None, antialias=warn)\n",
       "    RandomHorizontalFlip(p=0.5)\n",
       "    ColorJitter(brightness=(0.9, 1.1), contrast=(0.9, 1.1), saturation=(0.9, 1.1), hue=(-0.1, 0.1))\n",
       "    RandomRotation(degrees=[-20.0, 20.0], interpolation=nearest, expand=False, fill=0)\n",
       "    ToTensor()\n",
       "    Normalize(mean=[0.485, 0.456, 0.406], std=[0.229, 0.224, 0.225])\n",
       ")"
      ]
     },
     "execution_count": 14,
     "metadata": {},
     "output_type": "execute_result"
    }
   ],
   "source": [
    "train_set.dataset.transforms"
   ]
  },
  {
   "cell_type": "code",
   "execution_count": 15,
   "id": "0026e680",
   "metadata": {},
   "outputs": [],
   "source": [
    "train_dl = torch.utils.data.DataLoader(train_set, batch_size=batch_size, shuffle=True)\n",
    "valid_dl = torch.utils.data.DataLoader(valid_set, batch_size=batch_size)"
   ]
  },
  {
   "cell_type": "code",
   "execution_count": 16,
   "id": "093178d3",
   "metadata": {},
   "outputs": [],
   "source": [
    "imgs, labels = next(iter(train_dl))"
   ]
  },
  {
   "cell_type": "code",
   "execution_count": 17,
   "id": "794151e0",
   "metadata": {},
   "outputs": [
    {
     "data": {
      "text/plain": [
       "torch.Size([32, 3, 224, 224])"
      ]
     },
     "execution_count": 17,
     "metadata": {},
     "output_type": "execute_result"
    }
   ],
   "source": [
    "imgs.shape"
   ]
  },
  {
   "cell_type": "code",
   "execution_count": 18,
   "id": "6d9354f9",
   "metadata": {},
   "outputs": [
    {
     "name": "stderr",
     "output_type": "stream",
     "text": [
      "C:\\Users\\alireza\\anaconda3\\lib\\site-packages\\torchvision\\models\\_utils.py:223: UserWarning: Arguments other than a weight enum or `None` for 'weights' are deprecated since 0.13 and may be removed in the future. The current behavior is equivalent to passing `weights=ResNet50_Weights.IMAGENET1K_V1`. You can also use `weights=ResNet50_Weights.DEFAULT` to get the most up-to-date weights.\n",
      "  warnings.warn(msg)\n"
     ]
    }
   ],
   "source": [
    "model = models.resnet50(weights=True)"
   ]
  },
  {
   "cell_type": "code",
   "execution_count": 23,
   "id": "70d96f21",
   "metadata": {},
   "outputs": [],
   "source": [
    "for params in model.parameters():\n",
    "    params.requires_grad = False\n",
    "\n",
    "num_ftrs = model.fc.in_features\n",
    "model.fc = torch.nn.Linear(num_ftrs, len(class_names))\n",
    "\n",
    "model = model.to(device)"
   ]
  },
  {
   "cell_type": "code",
   "execution_count": 24,
   "id": "30f33744",
   "metadata": {},
   "outputs": [],
   "source": [
    "loss_fn = torch.nn.CrossEntropyLoss()\n",
    "optimizer = torch.optim.SGD(params=model.parameters(), lr=0.04, momentum=0.9)\n",
    "scheduler = torch.optim.lr_scheduler.StepLR(optimizer=optimizer, step_size=2, gamma=0.9)"
   ]
  },
  {
   "cell_type": "code",
   "execution_count": 25,
   "id": "981e18a4",
   "metadata": {},
   "outputs": [],
   "source": [
    "from train import train_model"
   ]
  },
  {
   "cell_type": "code",
   "execution_count": 30,
   "id": "1484d666",
   "metadata": {
    "scrolled": true
   },
   "outputs": [
    {
     "name": "stdout",
     "output_type": "stream",
     "text": [
      "Epoch 1/10\n",
      "----------\n",
      "  train Loss: 0.15737 Acc: 0.94165\n",
      "  valid Loss: 0.67055 Acc: 0.82200\n",
      "\n",
      "Epoch 2/10\n",
      "----------\n",
      "  train Loss: 0.15389 Acc: 0.94259\n",
      "  valid Loss: 0.66241 Acc: 0.83600\n",
      "\n",
      "Epoch 3/10\n",
      "----------\n",
      "  train Loss: 0.15170 Acc: 0.94494\n",
      "  valid Loss: 0.67098 Acc: 0.81800\n",
      "\n",
      "Epoch 4/10\n",
      "----------\n",
      "  train Loss: 0.14382 Acc: 0.95059\n",
      "  valid Loss: 0.70871 Acc: 0.80600\n",
      "\n",
      "Epoch 5/10\n",
      "----------\n",
      "  train Loss: 0.13451 Acc: 0.95224\n",
      "  valid Loss: 0.66613 Acc: 0.82000\n",
      "\n",
      "Epoch 6/10\n",
      "----------\n",
      "  train Loss: 0.14377 Acc: 0.94753\n",
      "  valid Loss: 0.71397 Acc: 0.81000\n",
      "\n",
      "Epoch 7/10\n",
      "----------\n",
      "  train Loss: 0.14129 Acc: 0.95082\n",
      "  valid Loss: 0.66660 Acc: 0.83000\n",
      "\n",
      "Epoch 8/10\n",
      "----------\n",
      "  train Loss: 0.13763 Acc: 0.95224\n",
      "  valid Loss: 0.64344 Acc: 0.82400\n",
      "\n",
      "Epoch 9/10\n",
      "----------\n",
      "  train Loss: 0.13808 Acc: 0.95082\n",
      "  valid Loss: 0.68099 Acc: 0.81800\n",
      "\n",
      "Epoch 10/10\n",
      "----------\n",
      "  train Loss: 0.12837 Acc: 0.95624\n",
      "  valid Loss: 0.70325 Acc: 0.83400\n",
      "\n",
      "Training complete in 34m 3s\n",
      "Best val Acc: 0.8360\n"
     ]
    }
   ],
   "source": [
    "resnet_model = train_model(model, train_dl, valid_dl, loss_fn, optimizer, device, scheduler, num_epochs=10)"
   ]
  },
  {
   "cell_type": "code",
   "execution_count": 27,
   "id": "a286a4cc",
   "metadata": {},
   "outputs": [
    {
     "name": "stdout",
     "output_type": "stream",
     "text": [
      "  valid Loss: 1.00325 Acc: 0.77200\n"
     ]
    },
    {
     "data": {
      "text/plain": [
       "tensor(0.7720, device='cuda:0')"
      ]
     },
     "execution_count": 27,
     "metadata": {},
     "output_type": "execute_result"
    }
   ],
   "source": [
    "from train import validate_model\n",
    "\n",
    "validate_model(model, valid_dl, loss_fn, device)"
   ]
  },
  {
   "cell_type": "code",
   "execution_count": null,
   "id": "cf2302b5",
   "metadata": {},
   "outputs": [],
   "source": []
  },
  {
   "cell_type": "code",
   "execution_count": null,
   "id": "848d1376",
   "metadata": {},
   "outputs": [],
   "source": []
  }
 ],
 "metadata": {
  "kernelspec": {
   "display_name": "Python 3 (ipykernel)",
   "language": "python",
   "name": "python3"
  },
  "language_info": {
   "codemirror_mode": {
    "name": "ipython",
    "version": 3
   },
   "file_extension": ".py",
   "mimetype": "text/x-python",
   "name": "python",
   "nbconvert_exporter": "python",
   "pygments_lexer": "ipython3",
   "version": "3.9.13"
  }
 },
 "nbformat": 4,
 "nbformat_minor": 5
}
